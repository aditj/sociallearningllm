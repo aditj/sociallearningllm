{
 "cells": [
  {
   "cell_type": "code",
   "execution_count": 104,
   "metadata": {},
   "outputs": [],
   "source": [
    "##### Importing the necessary libraries #####\n",
    "import pandas as pd\n",
    "from bs4 import BeautifulSoup\n",
    "import requests\n",
    "import matplotlib.pyplot as plt\n",
    "import seaborn as sns\n",
    "import time\n",
    "from pydantic import BaseModel\n",
    "from openai import OpenAI\n",
    "import matplotlib"
   ]
  },
  {
   "cell_type": "code",
   "execution_count": 179,
   "metadata": {},
   "outputs": [],
   "source": [
    "### load All_external.csv but only a rows from index 1000000\n",
    "### This contains the links to the external websites\n",
    "df = pd.read_csv('./data/All_external.csv', nrows=1000000)"
   ]
  },
  {
   "cell_type": "code",
   "execution_count": 181,
   "metadata": {},
   "outputs": [],
   "source": [
    "### Convert the Date column to datetime\n",
    "df['Date']=pd.to_datetime(df['Date'])\n"
   ]
  },
  {
   "cell_type": "code",
   "execution_count": 183,
   "metadata": {},
   "outputs": [],
   "source": [
    "#### Filter the data to only include the stock symbol 'APPL'\n",
    "df_appl = df[df['Stock_symbol'] == 'APPL'].reset_index(drop=True)"
   ]
  },
  {
   "cell_type": "code",
   "execution_count": 216,
   "metadata": {},
   "outputs": [],
   "source": [
    "### Load the full history of APPL stock (price, volume, etc)\n",
    "df_a = pd.read_csv(\"./data/full_history/AAPL.csv\")"
   ]
  },
  {
   "cell_type": "code",
   "execution_count": 185,
   "metadata": {},
   "outputs": [],
   "source": [
    "#### Function to get the content of a website\n",
    "def get_website_content(url):\n",
    "    try:\n",
    "        response = requests.get(url)\n",
    "        response.raise_for_status()\n",
    "        soup = BeautifulSoup(response.text, 'html.parser')\n",
    "        \n",
    "        # Try to find the div with class \"article-content-body\"\n",
    "        article_content = soup.find('div', class_='article-content-body')\n",
    "        \n",
    "        if article_content:\n",
    "            # If found, extract text from all child elements\n",
    "            return ' '.join(article_content.stripped_strings)\n",
    "        else:\n",
    "            # If not found, fall back to extracting text from all <p> tags\n",
    "            paragraphs = soup.find_all('p')\n",
    "            if paragraphs:\n",
    "                return ' '.join([p.get_text() for p in paragraphs])\n",
    "            else:\n",
    "                # If no <p> tags, extract all text from the body\n",
    "                return ' '.join(soup.body.stripped_strings)\n",
    "    except requests.RequestException as e:\n",
    "        print(f\"Error fetching website content: {e}\")\n",
    "        return None"
   ]
  },
  {
   "cell_type": "code",
   "execution_count": null,
   "metadata": {},
   "outputs": [],
   "source": [
    "#### Get the content of the websites\n",
    "df_appl['Content'] = \"\"\n",
    "for i in range(1000,len(df_appl)):\n",
    "    url = df_appl['Url'][i]\n",
    "    df_appl.iloc[i, df_appl.columns.get_loc('Content')] = get_website_content(url)\n",
    "    time.sleep(1)"
   ]
  },
  {
   "cell_type": "code",
   "execution_count": null,
   "metadata": {},
   "outputs": [],
   "source": [
    "#####  Filter the data to only include the rows where the content is not empty\n",
    "df_appl[(df_appl['Content'] != \"\") & (df_appl['Content'].notna())]\n",
    "df_appl = df_appl.dropna(subset=['Content'])\n",
    "#### Ensure that the content contains the word 'appl'\n",
    "df_appl = df_appl[df_appl['Content'].str.lower().str.contains(\"appl\")].reset_index(drop=True)"
   ]
  },
  {
   "cell_type": "code",
   "execution_count": 89,
   "metadata": {},
   "outputs": [],
   "source": [
    "##### Save the data to a csv file\n",
    "df_appl[['Date','Article_title','Content','Url']].to_csv('./data/AAPL_articles.csv', index=False)"
   ]
  },
  {
   "cell_type": "code",
   "execution_count": 217,
   "metadata": {},
   "outputs": [],
   "source": [
    "#### Load\n",
    "df_appl = pd.read_csv('./data/AAPL_articles.csv')\n",
    "df_appl['Date_Only'] = pd.to_datetime(df_appl['Date']).dt.date"
   ]
  },
  {
   "cell_type": "code",
   "execution_count": 295,
   "metadata": {},
   "outputs": [],
   "source": [
    "df_a['date'] = pd.to_datetime(df_a['date'])\n",
    "### Merge the two dataframes\n",
    "df_appl = pd.merge(df_appl,df_a,left_on='Date_Only',right_on='date')"
   ]
  },
  {
   "cell_type": "code",
   "execution_count": null,
   "metadata": {},
   "outputs": [],
   "source": [
    "### plot the data and high\n",
    "plt.plot(df_a['date'], df_a['high'])"
   ]
  },
  {
   "cell_type": "code",
   "execution_count": 225,
   "metadata": {},
   "outputs": [],
   "source": [
    "#### prompt to analyze\n",
    "system_prompt = '''\n",
    "Analyze the article and answer the following questions based on the content:\n",
    "Are there indications that recent or upcoming policy decisions could support market growth? (Yes/No)\n",
    "Do statements from central banks suggest optimism about the economic outlook? (Yes/No)\n",
    "Are there emerging trends or patterns that suggest a shift in market sentiment? (Yes/No)\n",
    "Is there evidence of key technical levels acting as support for major indices? (Yes/No)\n",
    "Are certain sectors or industries showing stronger performance compared to others? (Yes/No)\n",
    "Do shifts in investor interest suggest a move toward specific sectors, such as technology or energy? (Yes/No)\n",
    "Do recent economic data releases (e.g., employment, inflation, consumer sentiment) point toward growth? (Yes/No)\n",
    "Are any indicators flashing signals that typically correlate with significant market moves (e.g., yield curves, commodity prices)? (Yes/No)\n",
    "Is there evidence of a “risk-on” approach among investors? (Yes/No)\n",
    "Do recent market movements suggest increased interest in safe-haven assets like gold or bonds? (Yes/No)\n",
    "Are there global or geopolitical events mentioned that could influence market volatility? (Yes/No)\n",
    "Could changes in international markets or currencies impact domestic market trends? (Yes/No)\n",
    "Are recent corporate earnings or business announcements likely to influence market sentiment? (Yes/No)\n",
    "Do specific companies or sectors appear to be driving recent market gains? (Yes/No)\n",
    "'''"
   ]
  },
  {
   "cell_type": "code",
   "execution_count": 226,
   "metadata": {},
   "outputs": [],
   "source": [
    "\n",
    "OPENAI_API_KEY = \"\" # Add your OpenAI API key here\n",
    "client = OpenAI(OPENAI_API_KEY)\n",
    "#### Structure the response\n",
    "class FinancialAnalysis(BaseModel):\n",
    "    support_growth: bool\n",
    "    optimism: bool\n",
    "    support_indices: bool\n",
    "    strong_sectors: bool\n",
    "    investor_interest: bool\n",
    "    economic_data: bool\n",
    "    significant_moves: bool\n",
    "    risk_approach: bool\n",
    "    safe_haven_assets: bool\n",
    "    global_events: bool\n",
    "    international_impact: bool\n",
    "    market_sentiment: bool\n",
    "    driving_factors: bool\n",
    "\n",
    "#### Function to analyze the article\n",
    "def analyze_article(article_content: str) -> FinancialAnalysis:\n",
    "    completion = client.beta.chat.completions.parse(\n",
    "        model=\"gpt-4o-mini-2024-07-18\",\n",
    "        messages=[\n",
    "            {\"role\": \"system\", \"content\": system_prompt},\n",
    "            {\"role\": \"user\", \"content\": article_content},\n",
    "        ],\n",
    "        response_format=FinancialAnalysis,\n",
    "    )\n",
    "    return completion\n",
    "df_appl['Completition'] = df_appl['Content'].apply(analyze_article)\n",
    "df_appl = df_appl[['Date','Completition']]"
   ]
  },
  {
   "cell_type": "code",
   "execution_count": 290,
   "metadata": {},
   "outputs": [],
   "source": [
    "##### Parse the JSON response to extract the answers\n",
    "import json\n",
    "df_appl['Completition_JSON'] = df_appl['Completition'].apply(lambda x: json.loads(x.dict()['choices'][0]['message']['content']))"
   ]
  },
  {
   "cell_type": "code",
   "execution_count": 291,
   "metadata": {},
   "outputs": [],
   "source": [
    "#### convert the JSON to a dataframe\n",
    "df_appl = pd.concat([df_appl, df_appl['Completition_JSON'].apply(pd.Series)], axis=1)"
   ]
  },
  {
   "cell_type": "code",
   "execution_count": 297,
   "metadata": {},
   "outputs": [],
   "source": [
    "### ratio of the stock close price to the previous day\n",
    "df_appl['ratio'] = df_appl['close']/df_appl['close'].shift(1)"
   ]
  },
  {
   "cell_type": "code",
   "execution_count": 298,
   "metadata": {},
   "outputs": [],
   "source": [
    "df_appl['Date'] = pd.to_datetime(df_appl['Date'])"
   ]
  },
  {
   "cell_type": "code",
   "execution_count": 299,
   "metadata": {},
   "outputs": [],
   "source": [
    "### ratio difference\n",
    "df_appl['ratio_diff'] = df_appl['ratio'] - df_appl['ratio'].shift(1)"
   ]
  },
  {
   "cell_type": "code",
   "execution_count": null,
   "metadata": {},
   "outputs": [],
   "source": [
    "### plot the data\n",
    "fig, ax = plt.subplots()\n",
    "\n",
    "ax.plot(df_appl['Date'], df_appl['ratio_diff'], label='AAPL')\n",
    "ax.plot(df_appl['Date'], df_appl['support_growth'], label='support_growth')\n",
    "ax.plot(df_appl['Date'], df_appl['optimism'], label='optimism')\n",
    "ax.set_ylabel('Close ratio')\n",
    "ax.set_xlabel('Date')"
   ]
  },
  {
   "cell_type": "code",
   "execution_count": null,
   "metadata": {},
   "outputs": [],
   "source": [
    "### replace the NaN values with 0\n",
    "df_appl['ratio_diff'].fillna(0, inplace=True)"
   ]
  },
  {
   "cell_type": "code",
   "execution_count": null,
   "metadata": {},
   "outputs": [],
   "source": [
    "##### plot the main pot\n",
    "\n",
    "## use tex\n",
    "matplotlib.rcParams.update({'text.usetex': True})\n",
    "matplotlib.rcParams.update({'font.size': 14,})\n",
    "### relace _ with space and camel case\n",
    "clean_label = lambda x: x.replace('_', ' ').title()\n",
    "sns.set(style=\"darkgrid\")\n",
    "fig, ax = plt.subplots(3,4,figsize=(20,14))\n",
    "list_features = FinancialAnalysis(support_growth=True, optimism=True, support_indices=True, strong_sectors=True, investor_interest=True, economic_data=True, significant_moves=True, risk_approach=True, safe_haven_assets=True, global_events=True, international_impact=True, market_sentiment=True, driving_factors=True).dict().keys()\n",
    "list_features = list(list_features) \n",
    "for i in range(3):\n",
    "    for j in range(4):\n",
    "        sns.boxplot(y='ratio_diff', x=list_features[i*4+j], data=df_appl, ax=ax[i,j])\n",
    "        ax[i,j].set_xlabel(clean_label(list_features[i*4+j]), fontsize=16)\n",
    "        ax[i,j].set_ylabel('', fontsize=12)\n",
    "        ax[i,j].set_xticks([0,1])\n",
    "        ax[i,j].set_xticklabels(['No','Yes'], fontsize=16)\n",
    "### set bounding box\n",
    "plt.tight_layout(rect=[0, 0, 1, 0.95])\n",
    "ax[1,0].set_ylabel('Difference of Ratio of Close Prices',fontsize=24)\n",
    "### plot xlabel\n",
    "plt.suptitle('Effect of Different Features Obtained from LLMA on the Ratio of Close Prices', fontsize=24)\n",
    "plt.savefig('plots/LLMA_features_AAPL.pdf',bbox_inches='tight')\n",
    "plt.show()\n"
   ]
  }
 ],
 "metadata": {
  "kernelspec": {
   "display_name": "venv",
   "language": "python",
   "name": "python3"
  },
  "language_info": {
   "codemirror_mode": {
    "name": "ipython",
    "version": 3
   },
   "file_extension": ".py",
   "mimetype": "text/x-python",
   "name": "python",
   "nbconvert_exporter": "python",
   "pygments_lexer": "ipython3",
   "version": "3.10.4"
  }
 },
 "nbformat": 4,
 "nbformat_minor": 2
}

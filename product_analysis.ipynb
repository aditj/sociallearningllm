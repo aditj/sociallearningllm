{
 "cells": [
  {
   "cell_type": "code",
   "execution_count": 1,
   "metadata": {},
   "outputs": [],
   "source": [
    "import pandas as pd\n",
    "import numpy as np\n",
    "import matplotlib.pyplot as plt"
   ]
  },
  {
   "cell_type": "code",
   "execution_count": 3,
   "metadata": {},
   "outputs": [],
   "source": [
    "df = pd.read_json(\"./data/Appliances.json\", lines=True)\n"
   ]
  },
  {
   "cell_type": "code",
   "execution_count": 12,
   "metadata": {},
   "outputs": [],
   "source": [
    "##### 1. Data Cleaning #####\n",
    "from pydantic import BaseModel\n",
    "from openai import OpenAI\n",
    "system_prompt = \"\"\"\n",
    "Analyze the following product review and provide a summary of the key points:\n",
    "- Does the review mention any specific problems or defects with the product?\n",
    "- Does the review mention any positive attributes regarding the product's durability or reliability?\n",
    "- Does the review indicate that the product meets or exceeds the user's expectations?\n",
    "- Would the reviewer recommend this product to others?\n",
    "\"\"\"\n",
    "\n",
    "OPENAI_API_KEY = \"\"\n",
    "client = OpenAI(OPENAI_API_KEY)\n",
    "class ProductAnalysis(BaseModel):\n",
    "    defects: bool\n",
    "    durability: bool\n",
    "    expectations: bool\n",
    "    recommend: bool\n",
    "\n",
    "def analyze_review(review: str) -> ProductAnalysis:\n",
    "    completion = client.beta.chat.completions.parse(\n",
    "        model=\"gpt-4o-mini-2024-07-18\",\n",
    "        messages=[\n",
    "            {\"role\": \"system\", \"content\": system_prompt},\n",
    "            {\"role\": \"user\", \"content\": review},\n",
    "        ],\n",
    "        response_format=ProductAnalysis,\n",
    "    )\n",
    "    return completion\n",
    "\n"
   ]
  },
  {
   "cell_type": "code",
   "execution_count": null,
   "metadata": {},
   "outputs": [],
   "source": [
    "#### Pick out two product reviews to analyze ####"
   ]
  },
  {
   "cell_type": "code",
   "execution_count": 97,
   "metadata": {},
   "outputs": [],
   "source": [
    "df_product = df[df['asin'] == 'B0016HT444'].reset_index(drop=True)\n",
    "df_product = df[df['asin'] == 'B0053F80JA'].reset_index(drop=True)"
   ]
  },
  {
   "cell_type": "code",
   "execution_count": 98,
   "metadata": {},
   "outputs": [],
   "source": [
    "df_product = df_product.dropna(subset=['reviewText']).reset_index(drop=True)"
   ]
  },
  {
   "cell_type": "code",
   "execution_count": 88,
   "metadata": {},
   "outputs": [],
   "source": [
    "df_product['observation'] = df_product['reviewText'].apply(analyze_review)"
   ]
  },
  {
   "cell_type": "code",
   "execution_count": 89,
   "metadata": {},
   "outputs": [],
   "source": [
    "import json\n",
    "df_product['observation_json'] = (df_product['observation'].apply(lambda x: json.loads(x.choices[0].message.content)).values)"
   ]
  },
  {
   "cell_type": "code",
   "execution_count": null,
   "metadata": {},
   "outputs": [],
   "source": [
    "## make list of dicts a DataFrame\n",
    "df_observation = pd.json_normalize(df_product['observation_json'])"
   ]
  },
  {
   "cell_type": "code",
   "execution_count": null,
   "metadata": {},
   "outputs": [],
   "source": [
    "df_observation"
   ]
  },
  {
   "cell_type": "code",
   "execution_count": 101,
   "metadata": {},
   "outputs": [],
   "source": [
    "df_product = pd.concat([df_product, df_observation], axis=1)"
   ]
  },
  {
   "cell_type": "code",
   "execution_count": 102,
   "metadata": {},
   "outputs": [],
   "source": [
    "df_product.to_csv('data/good_product_data.csv', index=False)"
   ]
  },
  {
   "cell_type": "code",
   "execution_count": null,
   "metadata": {},
   "outputs": [],
   "source": [
    "df_product.groupby('overall')[['defects', 'durability', 'expectations', 'recommend']].mean()"
   ]
  },
  {
   "cell_type": "code",
   "execution_count": 123,
   "metadata": {},
   "outputs": [],
   "source": [
    "products_good = pd.read_csv('data/good_product_data.csv')\n",
    "products_good['good'] = True\n",
    "products_bad = pd.read_csv('data/bad_product_data.csv') \n",
    "products_bad['good'] = False"
   ]
  },
  {
   "cell_type": "code",
   "execution_count": 132,
   "metadata": {},
   "outputs": [],
   "source": [
    "products_all = pd.concat([products_good,products_bad],axis=0)[['defects', 'durability', 'expectations', 'recommend','overall','good']].reset_index(drop=True)\n"
   ]
  },
  {
   "cell_type": "code",
   "execution_count": null,
   "metadata": {},
   "outputs": [],
   "source": [
    "import seaborn as sns\n",
    "import matplotlib\n",
    "\n",
    "#### Product Analysis Plot ####\n",
    "matplotlib.rcParams.update({'text.usetex': True})\n",
    "sns.set_style(\"darkgrid\")\n",
    "fix,axs = plt.subplots(1, 2, figsize=(8, 4))\n",
    "products_good.groupby('overall')[['defects', 'durability', 'expectations', 'recommend']].mean().plot(kind='bar', ax=axs[0])\n",
    "### error bars\n",
    "# axs[0].legend(title='Attributes',fontsize=15)\n",
    "## turn off legend\n",
    "axs[0].set_title('Good Product $x=1$',fontsize=16)\n",
    "axs[0].legend().set_visible(False)\n",
    "products_bad.groupby('overall')[['defects', 'durability', 'expectations', 'recommend']].mean().plot(kind='bar', ax=axs[1])\n",
    "axs[1].set_title('Bad Product $x=1$',fontsize=16)\n",
    "\n",
    "axs[0].set_ylabel(\"Proportion of Samples with Attributes\",fontsize=14)\n",
    "axs[0].set_xlabel(\"Overall Rating from 1 to 5\",fontsize=15)\n",
    "axs[1].legend(title='Attributes',fontsize=16,title_fontsize=16, loc='upper left')\n",
    "\n",
    "axs[1].set_xlabel(\"Overall Rating from 1 to 5\",fontsize=15)\n",
    "plt.tight_layout()\n",
    "plt.savefig(\"plots/analysis_plot_product.pdf\")\n",
    "plt.show()"
   ]
  },
  {
   "cell_type": "code",
   "execution_count": null,
   "metadata": {},
   "outputs": [],
   "source": [
    "products_all.groupby(['good','overall']).mean().plot(kind='bar', figsize=(12, 6))"
   ]
  },
  {
   "cell_type": "code",
   "execution_count": 15,
   "metadata": {},
   "outputs": [],
   "source": [
    "products = df.groupby('asin').agg({\"overall\":\"mean\", \"reviewText\":\"count\"}).sort_values(by=\"reviewText\", ascending=False)"
   ]
  }
 ],
 "metadata": {
  "kernelspec": {
   "display_name": "venv",
   "language": "python",
   "name": "python3"
  },
  "language_info": {
   "codemirror_mode": {
    "name": "ipython",
    "version": 3
   },
   "file_extension": ".py",
   "mimetype": "text/x-python",
   "name": "python",
   "nbconvert_exporter": "python",
   "pygments_lexer": "ipython3",
   "version": "3.10.4"
  }
 },
 "nbformat": 4,
 "nbformat_minor": 2
}
